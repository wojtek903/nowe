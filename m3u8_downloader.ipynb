{
  "nbformat": 4,
  "nbformat_minor": 0,
  "metadata": {
    "colab": {
      "name": "m3u8 downloader.ipynb",
      "provenance": [],
      "include_colab_link": true
    },
    "kernelspec": {
      "name": "python3",
      "display_name": "Python 3"
    },
    "language_info": {
      "name": "python"
    }
  },
  "cells": [
    {
      "cell_type": "markdown",
      "metadata": {
        "id": "view-in-github",
        "colab_type": "text"
      },
      "source": [
        "<a href=\"https://colab.research.google.com/github/wojtek903/nowe/blob/main/m3u8_downloader.ipynb\" target=\"_parent\"><img src=\"https://colab.research.google.com/assets/colab-badge.svg\" alt=\"Open In Colab\"/></a>"
      ]
    },
    {
      "cell_type": "markdown",
      "metadata": {
        "id": "MoLddhWRxwdv"
      },
      "source": [
        "<a href=\"https://github.com/jakiyaa/m3u8-downloader\">\n",
        "<img src=\"https://github.com/fluidicon.png\" height=100px, align=\"left\"></a>\n",
        "\n",
        "\n",
        "\n",
        "<center><h1><b>M3u8 online Downloader </h1></b></center>"
      ]
    },
    {
      "cell_type": "code",
      "metadata": {
        "cellView": "form",
        "id": "H0qP3yiDrMD8",
        "colab": {
          "base_uri": "https://localhost:8080/"
        },
        "outputId": "9e232a45-e4a0-4bb4-abc4-10076ec3ea4a"
      },
      "source": [
        "#@title ← Run <Center>Mount Google Drive </Center>\n",
        "#@markdown <Center> <img src=\"https://kstatic.googleusercontent.com/files/e20dbc1db7b6eab22fb2d07df8043f8a74b301dbb8c176e6a1992b2dc229c5ae94b5c260cf549c41712fa40b7e639166c6a8461303a27c2a3b9c55b8ca155ec3\" class=\"icon\" alt=\"Icon\">\n",
        "\n",
        "from google.colab import drive\n",
        "drive.mount('/content/drive')"
      ],
      "execution_count": 3,
      "outputs": [
        {
          "output_type": "stream",
          "name": "stdout",
          "text": [
            "Drive already mounted at /content/drive; to attempt to forcibly remount, call drive.mount(\"/content/drive\", force_remount=True).\n"
          ]
        }
      ]
    },
    {
      "cell_type": "code",
      "metadata": {
        "id": "9t3VWUOoDZ1I",
        "colab": {
          "base_uri": "https://localhost:8080/"
        },
        "outputId": "01aeb9bc-c0ad-4c2b-9e45-e6e9b053c429"
      },
      "source": [
        "#@title ← Run <center> </font> <font color='red'> Paste m3u8 link <img src='https://play-lh.googleusercontent.com/vi_F_8raK3dL9D32R1VJRmWv18VKvc3niKDOE5z6yQsHOyzH0FQ1vq91eeakoEIFuxH9' height=\"40\" /> </center> { display-mode: \"form\" }\n",
        "import os\n",
        "M3u8_link = \"\" #@param {type:\"string\"}\n",
        "Download_location = \"/content/drive/MyDrive/myvideo.mp4\" #@param {type:\"string\"}\n",
        "\n",
        "\n",
        "\n",
        "!sudo apt install -y ffmpeg\n",
        "!pip install --user m3u8downloader\n",
        "\n",
        "!~/.local/bin/downloadm3u8 -o \"$Download_location\" \"$M3u8_link\"\n",
        "\n"
      ],
      "execution_count": 4,
      "outputs": [
        {
          "output_type": "stream",
          "name": "stdout",
          "text": [
            "Reading package lists... Done\n",
            "Building dependency tree... Done\n",
            "Reading state information... Done\n",
            "ffmpeg is already the newest version (7:4.4.2-0ubuntu0.22.04.1).\n",
            "0 upgraded, 0 newly installed, 0 to remove and 35 not upgraded.\n",
            "Collecting m3u8downloader\n",
            "  Downloading m3u8downloader-0.11.2-py2.py3-none-any.whl.metadata (6.2 kB)\n",
            "Requirement already satisfied: requests>=2.25.1 in /usr/local/lib/python3.11/dist-packages (from m3u8downloader) (2.32.3)\n",
            "Collecting wells>=1.5.0 (from m3u8downloader)\n",
            "  Downloading wells-1.5.0-py2.py3-none-any.whl.metadata (3.4 kB)\n",
            "Requirement already satisfied: charset-normalizer<4,>=2 in /usr/local/lib/python3.11/dist-packages (from requests>=2.25.1->m3u8downloader) (3.4.2)\n",
            "Requirement already satisfied: idna<4,>=2.5 in /usr/local/lib/python3.11/dist-packages (from requests>=2.25.1->m3u8downloader) (3.10)\n",
            "Requirement already satisfied: urllib3<3,>=1.21.1 in /usr/local/lib/python3.11/dist-packages (from requests>=2.25.1->m3u8downloader) (2.4.0)\n",
            "Requirement already satisfied: certifi>=2017.4.17 in /usr/local/lib/python3.11/dist-packages (from requests>=2.25.1->m3u8downloader) (2025.7.14)\n",
            "Downloading m3u8downloader-0.11.2-py2.py3-none-any.whl (13 kB)\n",
            "Downloading wells-1.5.0-py2.py3-none-any.whl (26 kB)\n",
            "Installing collected packages: wells, m3u8downloader\n",
            "\u001b[33m  WARNING: The script downloadm3u8 is installed in '/root/.local/bin' which is not on PATH.\n",
            "  Consider adding this directory to PATH or, if you prefer to suppress this warning, use --no-warn-script-location.\u001b[0m\u001b[33m\n",
            "\u001b[0mSuccessfully installed m3u8downloader-0.11.2 wells-1.5.0\n",
            "2025-07-21 22:42:34,634 ERROR    will retry because function raised exception\n",
            "Traceback (most recent call last):\n",
            "  File \"/root/.local/lib/python3.11/site-packages/wells/utils.py\", line 471, in wrapper\n",
            "    r = func(*args, **kwargs)\n",
            "        ^^^^^^^^^^^^^^^^^^^^^\n",
            "  File \"/root/.local/lib/python3.11/site-packages/m3u8downloader/main.py\", line 114, in get_url_content\n",
            "    r = SESSION.get(url)\n",
            "        ^^^^^^^^^^^^^^^^\n",
            "  File \"/usr/local/lib/python3.11/dist-packages/requests/sessions.py\", line 602, in get\n",
            "    return self.request(\"GET\", url, **kwargs)\n",
            "           ^^^^^^^^^^^^^^^^^^^^^^^^^^^^^^^^^^\n",
            "  File \"/usr/local/lib/python3.11/dist-packages/requests/sessions.py\", line 575, in request\n",
            "    prep = self.prepare_request(req)\n",
            "           ^^^^^^^^^^^^^^^^^^^^^^^^^\n",
            "  File \"/usr/local/lib/python3.11/dist-packages/requests/sessions.py\", line 484, in prepare_request\n",
            "    p.prepare(\n",
            "  File \"/usr/local/lib/python3.11/dist-packages/requests/models.py\", line 367, in prepare\n",
            "    self.prepare_url(url, params)\n",
            "  File \"/usr/local/lib/python3.11/dist-packages/requests/models.py\", line 438, in prepare_url\n",
            "    raise MissingSchema(\n",
            "requests.exceptions.MissingSchema: Invalid URL '': No scheme supplied. Perhaps you meant https://?\n",
            "2025-07-21 22:42:35,640 INFO     auto retry, func=get_url_content, retry=1, last_sleep=1\n",
            "2025-07-21 22:42:35,640 ERROR    will retry because function raised exception\n",
            "Traceback (most recent call last):\n",
            "  File \"/root/.local/lib/python3.11/site-packages/wells/utils.py\", line 471, in wrapper\n",
            "    r = func(*args, **kwargs)\n",
            "        ^^^^^^^^^^^^^^^^^^^^^\n",
            "  File \"/root/.local/lib/python3.11/site-packages/m3u8downloader/main.py\", line 114, in get_url_content\n",
            "    r = SESSION.get(url)\n",
            "        ^^^^^^^^^^^^^^^^\n",
            "  File \"/usr/local/lib/python3.11/dist-packages/requests/sessions.py\", line 602, in get\n",
            "    return self.request(\"GET\", url, **kwargs)\n",
            "           ^^^^^^^^^^^^^^^^^^^^^^^^^^^^^^^^^^\n",
            "  File \"/usr/local/lib/python3.11/dist-packages/requests/sessions.py\", line 575, in request\n",
            "    prep = self.prepare_request(req)\n",
            "           ^^^^^^^^^^^^^^^^^^^^^^^^^\n",
            "  File \"/usr/local/lib/python3.11/dist-packages/requests/sessions.py\", line 484, in prepare_request\n",
            "    p.prepare(\n",
            "  File \"/usr/local/lib/python3.11/dist-packages/requests/models.py\", line 367, in prepare\n",
            "    self.prepare_url(url, params)\n",
            "  File \"/usr/local/lib/python3.11/dist-packages/requests/models.py\", line 438, in prepare_url\n",
            "    raise MissingSchema(\n",
            "requests.exceptions.MissingSchema: Invalid URL '': No scheme supplied. Perhaps you meant https://?\n",
            "2025-07-21 22:42:40,641 INFO     auto retry, func=get_url_content, retry=2, last_sleep=5\n",
            "2025-07-21 22:42:40,642 ERROR    will retry because function raised exception\n",
            "Traceback (most recent call last):\n",
            "  File \"/root/.local/lib/python3.11/site-packages/wells/utils.py\", line 471, in wrapper\n",
            "    r = func(*args, **kwargs)\n",
            "        ^^^^^^^^^^^^^^^^^^^^^\n",
            "  File \"/root/.local/lib/python3.11/site-packages/m3u8downloader/main.py\", line 114, in get_url_content\n",
            "    r = SESSION.get(url)\n",
            "        ^^^^^^^^^^^^^^^^\n",
            "  File \"/usr/local/lib/python3.11/dist-packages/requests/sessions.py\", line 602, in get\n",
            "    return self.request(\"GET\", url, **kwargs)\n",
            "           ^^^^^^^^^^^^^^^^^^^^^^^^^^^^^^^^^^\n",
            "  File \"/usr/local/lib/python3.11/dist-packages/requests/sessions.py\", line 575, in request\n",
            "    prep = self.prepare_request(req)\n",
            "           ^^^^^^^^^^^^^^^^^^^^^^^^^\n",
            "  File \"/usr/local/lib/python3.11/dist-packages/requests/sessions.py\", line 484, in prepare_request\n",
            "    p.prepare(\n",
            "  File \"/usr/local/lib/python3.11/dist-packages/requests/models.py\", line 367, in prepare\n",
            "    self.prepare_url(url, params)\n",
            "  File \"/usr/local/lib/python3.11/dist-packages/requests/models.py\", line 438, in prepare_url\n",
            "    raise MissingSchema(\n",
            "requests.exceptions.MissingSchema: Invalid URL '': No scheme supplied. Perhaps you meant https://?\n",
            "2025-07-21 22:42:50,643 INFO     auto retry, func=get_url_content, retry=3, last_sleep=10\n",
            "2025-07-21 22:42:50,643 ERROR    max retry reached, func=get_url_content, retry=3\n",
            "Traceback (most recent call last):\n",
            "  File \"/root/.local/bin/downloadm3u8\", line 8, in <module>\n",
            "    sys.exit(main())\n",
            "             ^^^^^^\n",
            "  File \"/root/.local/lib/python3.11/site-packages/m3u8downloader/main.py\", line 521, in main\n",
            "    downloader.start()\n",
            "  File \"/root/.local/lib/python3.11/site-packages/m3u8downloader/main.py\", line 273, in start\n",
            "    self.download_m3u8_link(self.start_url)\n",
            "  File \"/root/.local/lib/python3.11/site-packages/m3u8downloader/main.py\", line 463, in download_m3u8_link\n",
            "    content = get_url_content(url)\n",
            "              ^^^^^^^^^^^^^^^^^^^^\n",
            "  File \"/root/.local/lib/python3.11/site-packages/wells/utils.py\", line 471, in wrapper\n",
            "    r = func(*args, **kwargs)\n",
            "        ^^^^^^^^^^^^^^^^^^^^^\n",
            "  File \"/root/.local/lib/python3.11/site-packages/m3u8downloader/main.py\", line 114, in get_url_content\n",
            "    r = SESSION.get(url)\n",
            "        ^^^^^^^^^^^^^^^^\n",
            "  File \"/usr/local/lib/python3.11/dist-packages/requests/sessions.py\", line 602, in get\n",
            "    return self.request(\"GET\", url, **kwargs)\n",
            "           ^^^^^^^^^^^^^^^^^^^^^^^^^^^^^^^^^^\n",
            "  File \"/usr/local/lib/python3.11/dist-packages/requests/sessions.py\", line 575, in request\n",
            "    prep = self.prepare_request(req)\n",
            "           ^^^^^^^^^^^^^^^^^^^^^^^^^\n",
            "  File \"/usr/local/lib/python3.11/dist-packages/requests/sessions.py\", line 484, in prepare_request\n",
            "    p.prepare(\n",
            "  File \"/usr/local/lib/python3.11/dist-packages/requests/models.py\", line 367, in prepare\n",
            "    self.prepare_url(url, params)\n",
            "  File \"/usr/local/lib/python3.11/dist-packages/requests/models.py\", line 438, in prepare_url\n",
            "    raise MissingSchema(\n",
            "requests.exceptions.MissingSchema: Invalid URL '': No scheme supplied. Perhaps you meant https://?\n"
          ]
        }
      ]
    }
  ]
}